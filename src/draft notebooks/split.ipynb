{
 "cells": [
  {
   "cell_type": "markdown",
   "id": "0f45289a-fddc-4f47-aff1-6f0888b932f4",
   "metadata": {},
   "source": [
    "We have learned from EDA that the target variable (no2_ref) is not evenly distributed but that the dataset is IID. There is also a small amount of missing data in the features (1.6%). It will be neccesary to do a stratified split. "
   ]
  },
  {
   "cell_type": "code",
   "execution_count": 10,
   "id": "6ebf7da9-c77e-4de6-9484-f130fd34aa84",
   "metadata": {},
   "outputs": [
    {
     "data": {
      "image/png": "[encoded data removed]",
      "text/plain": [
       "<Figure size 640x480 with 1 Axes>"
      ]
     },
     "metadata": {},
     "output_type": "display_data"
    },
    {
     "name": "stdout",
     "output_type": "stream",
     "text": [
      "Index(['Unnamed: 0', 'date', 'node_id', 'sensor_name', 'no_wrk_aux',\n",
      "       'no2_wrk_aux', 'o3_wrk_aux', 'temp', 'rh', 'no2_ref', 't_since_depl'],\n",
      "      dtype='object')\n",
      "(8184, 11)\n"
     ]
    }
   ],
   "source": [
    "# import dataset\n",
    "\n",
    "import pandas as pd\n",
    "import matplotlib\n",
    "from matplotlib import pylab as plt\n",
    "import numpy as np\n",
    "\n",
    "#merge_df = pd.read_csv(\"processed_data_1/merge.csv\")\n",
    "merge_df = pd.read_csv(\"interp_data/interp1.csv\")\n",
    "\n",
    "# Recall the histogram of the target variable\n",
    "\n",
    "merge_df.hist('no2_ref')\n",
    "plt.xlabel('Reference NO2 (ppb)')\n",
    "plt.xticks(fontsize=9)\n",
    "plt.ylabel('Count')\n",
    "plt.title('Histogram of Reference NO2')\n",
    "plt.show() \n",
    "\n",
    "print(merge_df.columns)\n",
    "print(merge_df.shape)\n"
   ]
  },
  {
   "cell_type": "code",
   "execution_count": 2,
   "id": "55cb2de9-8adf-429c-aa68-e8c28c97c9a6",
   "metadata": {},
   "outputs": [
    {
     "name": "stdout",
     "output_type": "stream",
     "text": [
      "(8184, 11)\n"
     ]
    }
   ],
   "source": [
    "print(merge_df.shape)"
   ]
  },
  {
   "cell_type": "code",
   "execution_count": 12,
   "id": "a678daea-fd64-43e8-b43f-506eeef89fdc",
   "metadata": {},
   "outputs": [],
   "source": [
    "# Create a new column that assigns no2_ref to quantiles to stratify on in train_test_split\n",
    "from sklearn.model_selection import train_test_split\n",
    "import pandas as pd\n",
    "\n",
    "def tts_strat_cont(X, y, train_size, val_size, test_size, random_state):\n",
    "    \n",
    "    # Stratify based on y using pd.qcut\n",
    "    y_bin = pd.qcut(y, q=5)\n",
    "    #print(y_bin.head())\n",
    "\n",
    "    # First split, stratify on y_bin\n",
    "    X_train, X_other, y_train, y_other = train_test_split(\n",
    "        X, y, train_size=train_size, stratify=y_bin, random_state=random_state)\n",
    "\n",
    "    # Scale the validation size to reflect the remaining data\n",
    "    val_size_scaled = val_size / (val_size + test_size)\n",
    "\n",
    "    # Create stratified bins for the second split\n",
    "    y_bin_other = pd.qcut(y_other, q=5)\n",
    "    \n",
    "    # Second split, stratify on y_bin_other\n",
    "    X_val, X_test, y_val, y_test = train_test_split(\n",
    "        X_other, y_other, train_size=val_size_scaled, stratify=y_bin_other, random_state=random_state)\n",
    "\n",
    "    return X_train, y_train, X_val, y_val, X_test, y_test\n"
   ]
  },
  {
   "cell_type": "code",
   "execution_count": 13,
   "id": "a82403bc-0fe3-4376-b861-5dab96f69af2",
   "metadata": {},
   "outputs": [],
   "source": [
    "# CREATE A SPLITTER THAT DIVIDES DATA INTO THE TOP 10% AND THEN THE REST\n",
    "\n",
    "def tts_strat_cont_top10(X, y, train_size, val_size, test_size, random_state):\n",
    "    # Compute the 90th percentile\n",
    "    top_10_percentile = y.quantile(0.9)\n",
    "\n",
    "    # Create a new column that assigns a label to the bins (top 10% vs. rest)\n",
    "    y_bin = pd.cut(y, bins=[-float('inf'), top_10_percentile, float('inf')], # all values up to 910th, then all values after 910th\n",
    "                   labels=['rest', 'top_10'], include_lowest=True)\n",
    "\n",
    "    # First split: stratify on the bin (top 10% vs. rest)\n",
    "    X_train, X_other, y_train, y_other = train_test_split(\n",
    "        X, y, train_size=train_size, stratify=y_bin, random_state=random_state)\n",
    "\n",
    "    # Scale the validation size to reflect the remaining data\n",
    "    val_size_scaled = val_size / (val_size + test_size)\n",
    "\n",
    "    # Create stratified bins for the second split\n",
    "    y_bin_other = pd.cut(y_other, bins=[-float('inf'), top_10_percentile, float('inf')],\n",
    "                         labels=['rest', 'top_10'], include_lowest=True)\n",
    "    \n",
    "    # Second split: stratify on the bin (top 10% vs. rest)\n",
    "    X_val, X_test, y_val, y_test = train_test_split(\n",
    "        X_other, y_other, train_size=val_size_scaled, stratify=y_bin_other, random_state=random_state)\n",
    "\n",
    "    return X_train, y_train, X_val, y_val, X_test, y_test"
   ]
  },
  {
   "cell_type": "code",
   "execution_count": 14,
   "id": "df95696e-ddec-4b7e-bf45-675e65aa230d",
   "metadata": {},
   "outputs": [],
   "source": [
    "# SPLITTING OUT TEST SET FIRST\n",
    "\n",
    "def tts_strat_cont_top10_test(X, y, train_size, val_size, test_size, random_state):\n",
    "    # Compute the 910th percentile (top 10%)\n",
    "    top_10_percentile = y.quantile(0.90)\n",
    "\n",
    "    # Create a new column that assigns a label to the bins (top 10% vs. rest)\n",
    "    y_bin = pd.cut(y, bins=[-float('inf'), top_10_percentile, float('inf')],\n",
    "                   labels=['rest', 'top_10'], include_lowest=True)\n",
    "\n",
    "    # First split: split out the test set first, stratify on the bin (top 10% vs. rest)\n",
    "    X_other, X_test, y_other, y_test = train_test_split(\n",
    "        X, y, test_size=test_size, stratify=y_bin, random_state=random_state)\n",
    "\n",
    "    # Create stratified bins for the remaining data (train + validation set)\n",
    "    y_bin_other = pd.cut(y_other, bins=[-float('inf'), top_10_percentile, float('inf')],\n",
    "                             labels=['rest', 'top_10'], include_lowest=True)\n",
    "\n",
    "    # Scale the validation size to reflect the remaining data (train + validation)\n",
    "    train_size_scaled = train_size / (train_size + val_size)\n",
    "\n",
    "    # Second split: split the train + validation set into train and validation sets\n",
    "    X_train, X_val, y_train, y_val = train_test_split(\n",
    "        X_other, y_other, train_size=train_size_scaled, stratify=y_bin_other, random_state=random_state)\n",
    "\n",
    "    return X_train, y_train, X_val, y_val, X_test, y_test"
   ]
  },
  {
   "cell_type": "code",
   "execution_count": 15,
   "id": "a62b680c-ca8c-45fd-8a7a-94d7df4eaa6a",
   "metadata": {},
   "outputs": [],
   "source": [
    "# Call tts_strat_cont_top10\n",
    "\n",
    "X = merge_df[['no_wrk_aux','no2_wrk_aux','o3_wrk_aux','temp','rh','t_since_depl']]\n",
    "y = merge_df['no2_ref']\n",
    "\n",
    "train_size = 0.6\n",
    "val_size = 0.2\n",
    "test_size = 0.2\n",
    "random_state = 1\n",
    "\n",
    "# Call function\n",
    "X_train, y_train, X_val, y_val, X_test, y_test = tts_strat_cont_top10(X, y, train_size, val_size, test_size, random_state)\n"
   ]
  },
  {
   "cell_type": "code",
   "execution_count": 7,
   "id": "dd72284d-036c-4c10-879c-a571081d9f7a",
   "metadata": {},
   "outputs": [
    {
     "name": "stdout",
     "output_type": "stream",
     "text": [
      "Shape of X train: (4910, 6)\n",
      "Shape of y train: (4910,)\n",
      "Shape of X val: (1637, 6)\n",
      "Shape of y val: (1637,)\n",
      "Shape of X test: (1637, 6)\n",
      "Shape of y test: (1637,)\n",
      "2.1732589635228785\n"
     ]
    },
    {
     "data": {
      "image/png": "[encoded data removed]",
      "text/plain": [
       "<Figure size 1500x500 with 3 Axes>"
      ]
     },
     "metadata": {},
     "output_type": "display_data"
    }
   ],
   "source": [
    "print(\"Shape of X train:\", X_train.shape)\n",
    "print(\"Shape of y train:\", y_train.shape)\n",
    "print(\"Shape of X val:\", X_val.shape)\n",
    "print(\"Shape of y val:\", y_val.shape)\n",
    "print(\"Shape of X test:\", X_test.shape)\n",
    "print(\"Shape of y test:\", y_test.shape)\n",
    "\n",
    "import scipy.stats as stats\n",
    "\n",
    "#  skewness\n",
    "skew_train = stats.skew(y_train)\n",
    "skew_val = stats.skew(y_val)\n",
    "skew_test = stats.skew(y_test)\n",
    "skew_orig = stats.skew(y)\n",
    "print(skew_orig)\n",
    "\n",
    "# plot the distributions of no2_ref in each of the sets\n",
    "fig, axes = plt.subplots(1, 3, figsize=(15, 5))  # 1 row, 3 columns\n",
    "\n",
    "y_train.hist(ax=axes[0]) \n",
    "axes[0].set_title('y_train')\n",
    "axes[0].set_xlabel(f'Skewness: {skew_train:.2f}')\n",
    "\n",
    "y_val.hist(ax=axes[1])  \n",
    "axes[1].set_title('y_val')\n",
    "axes[1].set_xlabel(f'Skewness: {skew_val:.2f}')\n",
    "\n",
    "y_test.hist(ax=axes[2]) \n",
    "axes[2].set_title('y_test')\n",
    "axes[2].set_xlabel(f'Skewness: {skew_test:.2f}')\n",
    "\n",
    "plt.savefig('EDA_figures/split_distribution.png') "
   ]
  },
  {
   "cell_type": "code",
   "execution_count": 5,
   "id": "4515c5e4-f28a-4f5f-8cc6-7cf9f18d1666",
   "metadata": {},
   "outputs": [],
   "source": [
    "# Save split datasets\n",
    "\n",
    "X_train.to_csv(\"split_data/X_train.csv\",index=False)\n",
    "X_val.to_csv(\"split_data/X_val.csv\",index=False)\n",
    "X_test.to_csv(\"split_data/X_test.csv\",index=False)\n",
    "\n",
    "y_train.to_csv(\"split_data/y_train.csv\",index=False)\n",
    "y_val.to_csv(\"split_data/y_val.csv\",index=False)\n",
    "y_test.to_csv(\"split_data/y_test.csv\",index=False)\n"
   ]
  },
  {
   "cell_type": "code",
   "execution_count": 8,
   "id": "58e336ed-1557-424f-974a-5eed0c23ac86",
   "metadata": {},
   "outputs": [],
   "source": [
    "# TEST OF SPLITTER OVER MANY RANDOM STATES COMPARED TO BASIC SPLIT\n",
    "\n",
    "def basic_split(X,y,train_size,val_size,test_size,random_state):\n",
    "\n",
    "    if train_size + val_size + test_size == 1.0 and isinstance(random_state, int):\n",
    "        \n",
    "        # First split to separate out the training set\n",
    "        X_train, X_other, y_train, y_other = train_test_split(X,y,\n",
    "                    train_size = train_size,random_state = random_state) \n",
    "\n",
    "        val_size_scaled = val_size/(val_size + test_size) # scale the val_size to reflect new fraction to select from\n",
    "        \n",
    "        # Second split to separate out the validation and test sets\n",
    "        X_val, X_test, y_val, y_test = train_test_split(X_other,y_other,\n",
    "                    train_size = val_size_scaled,random_state = random_state)\n",
    "\n",
    "        return (X_train, y_train, X_val, y_val, X_test, y_test)\n",
    "\n",
    "    else:\n",
    "        print(\"Error: Input splits do not add up to equal 1 or random_state is not an integer\")\n"
   ]
  },
  {
   "cell_type": "code",
   "execution_count": 16,
   "id": "e4c46e2d-f478-455b-a56d-26e21eec1aad",
   "metadata": {},
   "outputs": [
    {
     "name": "stdout",
     "output_type": "stream",
     "text": [
      "Stratified splitter\n",
      "Average y_test_s skew: 2.169475455534461\n",
      "St dev y_test_s skew: 0.04313059126915535\n",
      "Average y_val_s skew: 2.1582969558429452\n",
      "St dev y_val_s skew: 0.0546324827893364\n",
      "Average y_train_s skew: 2.177929229412393\n",
      "St dev y_train_s skew: 0.019747093828153473\n",
      "\n",
      "10th percentile splitter - train out first\n",
      "Average y_test_10 skew: 2.1761774312987514\n",
      "St dev y_test_10 skew: 0.06333986548852608\n",
      "Average y_val_10 skew: 2.162434326734149\n",
      "St dev y_val_1 skew: 0.05289642875415671\n",
      "Average y_train_10 skew: 2.17461591276142\n",
      "St dev y_train_10 skew: 0.02142808543615675\n",
      "\n",
      "10th percentile splitter - test out first\n",
      "Average y_test_10_t skew: 2.1863722971659536\n",
      "St dev y_test_10_t skew: 0.05691644503326404\n",
      "Average y_val_10_t skew: 2.168256790574214\n",
      "St dev y_val_10_t skew: 0.05937988581726782\n",
      "Average y_train_10_t skew: 2.1686884183336232\n",
      "St dev y_train_10_t skew: 0.022495861067298267\n",
      "\n",
      "Basic splitter\n",
      "Average y_test_bs skew: 2.165945973849851\n",
      "St dev y_test_bs skew: 0.06859505104405929\n",
      "Average y_val_bs skew: 2.1805947815236797\n",
      "St dev y_val_bs skew: 0.07684327134054605\n",
      "Average y_train_bs skew: 2.173940795964062\n",
      "St dev y_train_bs skew: 0.032776770800900315\n"
     ]
    }
   ],
   "source": [
    "random_states = 40\n",
    "test_skews_s = []\n",
    "val_skews_s = []\n",
    "train_skews_s = []\n",
    "test_skews_bs = []\n",
    "val_skews_bs = []\n",
    "train_skews_bs = []\n",
    "test_skews_10 = []\n",
    "val_skews_10 = []\n",
    "train_skews_10 = []\n",
    "test_skews_10_t = []\n",
    "val_skews_10_t = []\n",
    "train_skews_10_t = []\n",
    "\n",
    "for i in range(random_states):\n",
    "\n",
    "    # strat splitter\n",
    "    X_train_s, y_train_s, X_val_s, y_val_s, X_test_s, y_test_s = tts_strat_cont(\n",
    "        X, y, train_size=train_size, val_size=val_size, test_size=test_size, random_state=i)\n",
    "\n",
    "    test_skews_s.append(y_test_s.skew())\n",
    "    val_skews_s.append(y_val_s.skew())\n",
    "    train_skews_s.append(y_train_s.skew())\n",
    "    \n",
    "    # basic split\n",
    "    X_train_bs, y_train_bs, X_val_bs, y_val_bs, X_test_bs, y_test_bs = basic_split(\n",
    "        X, y, train_size=train_size, val_size = val_size, test_size = test_size, random_state=i)\n",
    "\n",
    "    test_skews_bs.append(y_test_bs.skew())\n",
    "    val_skews_bs.append(y_val_bs.skew())\n",
    "    train_skews_bs.append(y_train_bs.skew())\n",
    "\n",
    "    #10th percentile split - train out first\n",
    "    X_train_10, y_train_10, X_val_10, y_val_10, X_test_10, y_test_10 = tts_strat_cont_top10(\n",
    "            X, y, train_size=train_size, val_size = val_size, test_size = test_size, random_state=i)\n",
    "\n",
    "    test_skews_10.append(y_test_10.skew())\n",
    "    val_skews_10.append(y_val_10.skew())\n",
    "    train_skews_10.append(y_train_10.skew())\n",
    "\n",
    "    #5th percentile split - test out first\n",
    "    X_train_10_t, y_train_10_t, X_val_10_t, y_val_10_t, X_test_10_t, y_test_10_t = tts_strat_cont_top10_test(\n",
    "            X, y, train_size=train_size, val_size = val_size, test_size = test_size, random_state=i)\n",
    "\n",
    "    test_skews_10_t.append(y_test_10_t.skew())\n",
    "    val_skews_10_t.append(y_val_10_t.skew())\n",
    "    train_skews_10_t.append(y_train_10_t.skew())\n",
    "\n",
    "print(\"Stratified splitter\")\n",
    "print(\"Average y_test_s skew:\",np.mean(test_skews_s))\n",
    "print(\"St dev y_test_s skew:\",np.std(test_skews_s))\n",
    "print(\"Average y_val_s skew:\",np.mean(val_skews_s))\n",
    "print(\"St dev y_val_s skew:\",np.std(val_skews_s))\n",
    "print(\"Average y_train_s skew:\",np.mean(train_skews_s))\n",
    "print(\"St dev y_train_s skew:\",np.std(train_skews_s))\n",
    "print(\"\")\n",
    "\n",
    "print(\"10th percentile splitter - train out first\")\n",
    "print(\"Average y_test_10 skew:\",np.mean(test_skews_10))\n",
    "print(\"St dev y_test_10 skew:\",np.std(test_skews_10))\n",
    "print(\"Average y_val_10 skew:\",np.mean(val_skews_10))\n",
    "print(\"St dev y_val_1 skew:\",np.std(val_skews_10))\n",
    "print(\"Average y_train_10 skew:\",np.mean(train_skews_10))\n",
    "print(\"St dev y_train_10 skew:\",np.std(train_skews_10))\n",
    "print(\"\")\n",
    "\n",
    "print(\"10th percentile splitter - test out first\")\n",
    "print(\"Average y_test_10_t skew:\",np.mean(test_skews_10_t))\n",
    "print(\"St dev y_test_10_t skew:\",np.std(test_skews_10_t))\n",
    "print(\"Average y_val_10_t skew:\",np.mean(val_skews_10_t))\n",
    "print(\"St dev y_val_10_t skew:\",np.std(val_skews_10_t))\n",
    "print(\"Average y_train_10_t skew:\",np.mean(train_skews_10_t))\n",
    "print(\"St dev y_train_10_t skew:\",np.std(train_skews_10_t))\n",
    "print(\"\")\n",
    "\n",
    "\n",
    "print(\"Basic splitter\")\n",
    "print(\"Average y_test_bs skew:\",np.mean(test_skews_bs))\n",
    "print(\"St dev y_test_bs skew:\",np.std(test_skews_bs))\n",
    "print(\"Average y_val_bs skew:\",np.mean(val_skews_bs))\n",
    "print(\"St dev y_val_bs skew:\",np.std(val_skews_bs))\n",
    "print(\"Average y_train_bs skew:\",np.mean(train_skews_bs))\n",
    "print(\"St dev y_train_bs skew:\",np.std(train_skews_bs))"
   ]
  }
 ],
 "metadata": {
  "kernelspec": {
   "display_name": "Python 3 (ipykernel)",
   "language": "python",
   "name": "python3"
  },
  "language_info": {
   "codemirror_mode": {
    "name": "ipython",
    "version": 3
   },
   "file_extension": ".py",
   "mimetype": "text/x-python",
   "name": "python",
   "nbconvert_exporter": "python",
   "pygments_lexer": "ipython3",
   "version": "3.12.5"
  }
 },
 "nbformat": 4,
 "nbformat_minor": 5
}
