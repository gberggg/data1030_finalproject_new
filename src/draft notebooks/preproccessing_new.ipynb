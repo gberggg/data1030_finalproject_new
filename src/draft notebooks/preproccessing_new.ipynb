{
 "cells": [
  {
   "cell_type": "code",
   "execution_count": 1,
   "id": "40c02808-0596-4c61-be40-e3571d4bbfb7",
   "metadata": {},
   "outputs": [
    {
     "name": "stdout",
     "output_type": "stream",
     "text": [
      "Shape of X train: (4910, 7)\n",
      "Shape of y train: (4910, 2)\n",
      "Shape of X val: (1637, 7)\n",
      "Shape of y val: (1637, 2)\n",
      "Shape of X test: (1637, 7)\n",
      "Shape of y test: (1637, 2)\n",
      "   Unnamed: 0  no_wrk_aux  no2_wrk_aux  o3_wrk_aux       temp         rh  \\\n",
      "0        2302    0.050299     0.001970    0.036247  36.537770  15.796436   \n",
      "1         835    0.028139     0.021041    0.033938   7.424897  53.726745   \n",
      "2        4024    0.041295     0.005716    0.020930  27.725586  53.255664   \n",
      "3         778    0.029331     0.015959    0.033618  -1.611770  15.023979   \n",
      "4        2676    0.029299     0.016341    0.035075  16.615753  75.401336   \n",
      "\n",
      "   t_since_depl  \n",
      "0          2458  \n",
      "1           862  \n",
      "2          4326  \n",
      "3           805  \n",
      "4          2873  \n"
     ]
    }
   ],
   "source": [
    "# import split sets\n",
    "\n",
    "import pandas as pd\n",
    "import matplotlib\n",
    "from matplotlib import pylab as plt\n",
    "import numpy as np\n",
    "\n",
    "X_train = pd.read_csv(\"split_data/X_train.csv\")\n",
    "X_val = pd.read_csv(\"split_data/X_val.csv\")\n",
    "X_test = pd.read_csv(\"split_data/X_test.csv\")\n",
    "\n",
    "y_train = pd.read_csv(\"split_data/y_train.csv\")\n",
    "y_val = pd.read_csv(\"split_data/y_val.csv\")\n",
    "y_test = pd.read_csv(\"split_data/y_test.csv\")\n",
    "\n",
    "# verify shapes\n",
    "print(\"Shape of X train:\", X_train.shape)\n",
    "print(\"Shape of y train:\", y_train.shape)\n",
    "print(\"Shape of X val:\", X_val.shape)\n",
    "print(\"Shape of y val:\", y_val.shape)\n",
    "print(\"Shape of X test:\", X_test.shape)\n",
    "print(\"Shape of y test:\", y_test.shape)\n",
    "\n",
    "print(X_train.head())\n"
   ]
  },
  {
   "cell_type": "code",
   "execution_count": 2,
   "id": "282f8c47-3621-4984-be79-27a06fc70f0f",
   "metadata": {},
   "outputs": [
    {
     "name": "stdout",
     "output_type": "stream",
     "text": [
      "   no_wrk_aux  no2_wrk_aux  o3_wrk_aux       temp         rh  t_since_depl\n",
      "0    0.050299     0.001970    0.036247  36.537770  15.796436          2458\n",
      "1    0.028139     0.021041    0.033938   7.424897  53.726745           862\n",
      "2    0.041295     0.005716    0.020930  27.725586  53.255664          4326\n",
      "3    0.029331     0.015959    0.033618  -1.611770  15.023979           805\n",
      "4    0.029299     0.016341    0.035075  16.615753  75.401336          2873\n"
     ]
    }
   ],
   "source": [
    "# Delete the index column before feature engineering\n",
    "X_train = X_train.drop(X_train.columns[0], axis=1)\n",
    "X_val = X_val.drop(X_val.columns[0], axis=1)\n",
    "X_test = X_test.drop(X_test.columns[0], axis=1)\n",
    "\n",
    "y_train = y_train.drop(y_train.columns[0], axis=1)\n",
    "y_val = y_val.drop(y_val.columns[0], axis=1)\n",
    "y_test = y_test.drop(y_test.columns[0], axis=1)\n",
    "\n",
    "print(X_train.head())\n"
   ]
  },
  {
   "cell_type": "code",
   "execution_count": 3,
   "id": "635d7087-8660-4497-924b-5541074282ef",
   "metadata": {},
   "outputs": [
    {
     "name": "stdout",
     "output_type": "stream",
     "text": [
      "X_train after imputation:\n",
      "       no_wrk_aux  no2_wrk_aux  o3_wrk_aux       temp         rh  t_since_depl\n",
      "0       0.050299     0.001970    0.036247  36.537770  15.796436        2458.0\n",
      "1       0.028139     0.021041    0.033938   7.424897  53.726745         862.0\n",
      "2       0.041295     0.005716    0.020930  27.725586  53.255664        4326.0\n",
      "3       0.029331     0.015959    0.033618  -1.611770  15.023979         805.0\n",
      "4       0.029299     0.016341    0.035075  16.615753  75.401336        2873.0\n",
      "...          ...          ...         ...        ...        ...           ...\n",
      "4905    0.030713     0.015821    0.039910  26.719155  65.944951        4246.0\n",
      "4906    0.031353     0.015692    0.039925  26.781807  66.352556        5254.0\n",
      "4907    0.029899     0.016538    0.032468  16.780872  51.063011        8149.0\n",
      "4908    0.030241     0.018904    0.031023 -11.313564  21.136239         811.0\n",
      "4909    0.034011     0.009700    0.024887  22.239298  58.052576        4038.0\n",
      "\n",
      "[4910 rows x 6 columns]\n"
     ]
    }
   ],
   "source": [
    "# Impute missing values (replace when we learn more advanced methods!)\n",
    "from sklearn.impute import SimpleImputer\n",
    "\n",
    "# Median imputation\n",
    "imputer = SimpleImputer(strategy='median')\n",
    "imputer.fit(X_train)\n",
    "\n",
    "# Transform the training data (impute missing values)\n",
    "X_train_imputed = imputer.transform(X_train)\n",
    "\n",
    "# Transform the validation and test sets using the same imputer\n",
    "X_val_imputed = imputer.transform(X_val)\n",
    "X_test_imputed = imputer.transform(X_test)\n",
    "\n",
    "# Convert back to DataFrame for easier handling\n",
    "X_train_imputed_df = pd.DataFrame(X_train_imputed, columns=X_train.columns)\n",
    "X_val_imputed_df = pd.DataFrame(X_val_imputed, columns=X_val.columns)\n",
    "X_test_imputed_df = pd.DataFrame(X_test_imputed, columns=X_test.columns)\n",
    "\n",
    "# reduce the columns again\n",
    "X_train_imputed_df = X_train_imputed_df[['no_wrk_aux','no2_wrk_aux','o3_wrk_aux','temp','rh','t_since_depl']]\n",
    "X_val_imputed_df = X_val_imputed_df[['no_wrk_aux','no2_wrk_aux','o3_wrk_aux','temp','rh','t_since_depl']]\n",
    "X_test_imputed_df = X_test_imputed_df[['no_wrk_aux','no2_wrk_aux','o3_wrk_aux','temp','rh','t_since_depl']]\n",
    "\n",
    "# Output the results\n",
    "print(\"X_train after imputation:\\n\", X_train_imputed_df)\n",
    "#print(\"X_val after imputation:\\n\", X_val_imputed_df)\n",
    "#print(\"X_test after imputation:\\n\", X_test_imputed_df)\n",
    "\n",
    "\n"
   ]
  },
  {
   "cell_type": "code",
   "execution_count": 4,
   "id": "66172042-4754-45b6-85ef-ef581ca40909",
   "metadata": {},
   "outputs": [
    {
     "name": "stdout",
     "output_type": "stream",
     "text": [
      "Index(['no_wrk_aux', 'no2_wrk_aux', 'o3_wrk_aux', 'temp', 'rh', 't_since_depl',\n",
      "       'no_wrk_aux no2_wrk_aux', 'no_wrk_aux o3_wrk_aux', 'no_wrk_aux temp',\n",
      "       'no_wrk_aux rh', 'no_wrk_aux t_since_depl', 'no2_wrk_aux o3_wrk_aux',\n",
      "       'no2_wrk_aux temp', 'no2_wrk_aux rh', 'no2_wrk_aux t_since_depl',\n",
      "       'o3_wrk_aux temp', 'o3_wrk_aux rh', 'o3_wrk_aux t_since_depl',\n",
      "       'temp rh', 'temp t_since_depl', 'rh t_since_depl',\n",
      "       'no_wrk_aux no2_wrk_aux o3_wrk_aux', 'no_wrk_aux no2_wrk_aux temp',\n",
      "       'no_wrk_aux no2_wrk_aux rh', 'no_wrk_aux no2_wrk_aux t_since_depl',\n",
      "       'no_wrk_aux o3_wrk_aux temp', 'no_wrk_aux o3_wrk_aux rh',\n",
      "       'no_wrk_aux o3_wrk_aux t_since_depl', 'no_wrk_aux temp rh',\n",
      "       'no_wrk_aux temp t_since_depl', 'no_wrk_aux rh t_since_depl',\n",
      "       'no2_wrk_aux o3_wrk_aux temp', 'no2_wrk_aux o3_wrk_aux rh',\n",
      "       'no2_wrk_aux o3_wrk_aux t_since_depl', 'no2_wrk_aux temp rh',\n",
      "       'no2_wrk_aux temp t_since_depl', 'no2_wrk_aux rh t_since_depl',\n",
      "       'o3_wrk_aux temp rh', 'o3_wrk_aux temp t_since_depl',\n",
      "       'o3_wrk_aux rh t_since_depl', 'temp rh t_since_depl',\n",
      "       'no_wrk_aux no2_wrk_aux o3_wrk_aux temp',\n",
      "       'no_wrk_aux no2_wrk_aux o3_wrk_aux rh',\n",
      "       'no_wrk_aux no2_wrk_aux o3_wrk_aux t_since_depl',\n",
      "       'no_wrk_aux no2_wrk_aux temp rh',\n",
      "       'no_wrk_aux no2_wrk_aux temp t_since_depl',\n",
      "       'no_wrk_aux no2_wrk_aux rh t_since_depl',\n",
      "       'no_wrk_aux o3_wrk_aux temp rh',\n",
      "       'no_wrk_aux o3_wrk_aux temp t_since_depl',\n",
      "       'no_wrk_aux o3_wrk_aux rh t_since_depl',\n",
      "       'no_wrk_aux temp rh t_since_depl', 'no2_wrk_aux o3_wrk_aux temp rh',\n",
      "       'no2_wrk_aux o3_wrk_aux temp t_since_depl',\n",
      "       'no2_wrk_aux o3_wrk_aux rh t_since_depl',\n",
      "       'no2_wrk_aux temp rh t_since_depl', 'o3_wrk_aux temp rh t_since_depl',\n",
      "       'no_wrk_aux no2_wrk_aux o3_wrk_aux temp rh',\n",
      "       'no_wrk_aux no2_wrk_aux o3_wrk_aux temp t_since_depl',\n",
      "       'no_wrk_aux no2_wrk_aux o3_wrk_aux rh t_since_depl',\n",
      "       'no_wrk_aux no2_wrk_aux temp rh t_since_depl',\n",
      "       'no_wrk_aux o3_wrk_aux temp rh t_since_depl',\n",
      "       'no2_wrk_aux o3_wrk_aux temp rh t_since_depl',\n",
      "       'no_wrk_aux no2_wrk_aux o3_wrk_aux temp rh t_since_depl'],\n",
      "      dtype='object')\n",
      "(1637, 63)\n"
     ]
    }
   ],
   "source": [
    "# Automatic feature engineering - happens BEFORE scaling, to get same mean and sd at end\n",
    "\n",
    "from sklearn.preprocessing import PolynomialFeatures\n",
    "\n",
    "poly = PolynomialFeatures(6, include_bias=False, interaction_only=True)\n",
    "\n",
    "X_train_engn = poly.fit_transform(X_train_imputed_df) \n",
    "X_train_engn_df = pd.DataFrame(X_train_engn, columns=poly.get_feature_names_out(X_train.columns))\n",
    "\n",
    "X_val_engn = poly.fit_transform(X_val_imputed_df)\n",
    "X_val_engn_df = pd.DataFrame(X_val_engn, columns=poly.get_feature_names_out(X_val.columns))\n",
    "\n",
    "X_test_engn = poly.fit_transform(X_test_imputed_df) \n",
    "X_test_engn_df = pd.DataFrame(X_test_engn, columns=poly.get_feature_names_out(X_test.columns)) \n",
    "\n",
    "#print(X_val_engn_df)\n",
    "print(X_val_engn_df.columns)\n",
    "print(X_val_engn_df.shape)"
   ]
  },
  {
   "cell_type": "code",
   "execution_count": 5,
   "id": "d852b7c6-7f62-49b7-945d-15a29838dc8a",
   "metadata": {},
   "outputs": [
    {
     "name": "stdout",
     "output_type": "stream",
     "text": [
      "(4910, 63)\n",
      "(1637, 63)\n",
      "(1637, 63)\n",
      "LCS NO2 mean: 1.0983746159713158e-15\n",
      "LCS NO2 standard deviation: 1.0\n"
     ]
    }
   ],
   "source": [
    "# Scaling data using standard scaler\n",
    "from sklearn.preprocessing import StandardScaler\n",
    "import statistics\n",
    "\n",
    "scaler = StandardScaler()\n",
    "\n",
    "X_train_engn_scaled = scaler.fit_transform(X_train_engn_df)\n",
    "X_val_engn_scaled = scaler.transform(X_val_engn_df)\n",
    "X_test_engn_scaled = scaler.transform(X_test_engn_df)\n",
    "\n",
    "# convert back to DataFrame \n",
    "X_train_engn_scaled_df = pd.DataFrame(X_train_engn_scaled, columns=X_train_engn_df.columns)\n",
    "X_val_engn_scaled_df = pd.DataFrame(X_val_engn_scaled, columns=X_val_engn_df.columns)\n",
    "X_test_engn_scaled_df = pd.DataFrame(X_test_engn_scaled, columns=X_test_engn_df.columns)\n",
    "\n",
    "print(X_train_engn_scaled_df.shape)\n",
    "print(X_val_engn_scaled_df.shape)\n",
    "print(X_test_engn_scaled_df.shape)\n",
    "\n",
    "print(\"LCS NO2 mean:\",np.mean(X_train_engn_scaled_df['no2_wrk_aux']))\n",
    "print(\"LCS NO2 standard deviation:\",np.std(X_train_engn_scaled_df['no2_wrk_aux']))\n",
    "\n"
   ]
  },
  {
   "cell_type": "code",
   "execution_count": 6,
   "id": "6536b065-6826-409b-9a4d-e9d9a4c906f9",
   "metadata": {},
   "outputs": [],
   "source": [
    "# Save preprocessed data\n",
    "\n",
    "X_train_engn_scaled_df.to_csv(\"preprocessed_data/X_train_prepro.csv\",index=False)\n",
    "X_val_engn_scaled_df.to_csv(\"preprocessed_data/X_val_prepro.csv\",index=False)\n",
    "X_test_engn_scaled_df.to_csv(\"preprocessed_data/X_test_prepro.csv\",index=False)\n"
   ]
  }
 ],
 "metadata": {
  "kernelspec": {
   "display_name": "Python 3 (ipykernel)",
   "language": "python",
   "name": "python3"
  },
  "language_info": {
   "codemirror_mode": {
    "name": "ipython",
    "version": 3
   },
   "file_extension": ".py",
   "mimetype": "text/x-python",
   "name": "python",
   "nbconvert_exporter": "python",
   "pygments_lexer": "ipython3",
   "version": "3.12.5"
  }
 },
 "nbformat": 4,
 "nbformat_minor": 5
}
